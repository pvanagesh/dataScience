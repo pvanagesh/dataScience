{
 "cells": [
  {
   "cell_type": "markdown",
   "id": "7ceda762",
   "metadata": {},
   "source": [
    "# Lists"
   ]
  },
  {
   "cell_type": "code",
   "execution_count": 1,
   "id": "64da70ad",
   "metadata": {},
   "outputs": [
    {
     "data": {
      "text/plain": [
       "list"
      ]
     },
     "execution_count": 1,
     "metadata": {},
     "output_type": "execute_result"
    }
   ],
   "source": [
    "list1=[]  #empty list\n",
    "type(list1)"
   ]
  },
  {
   "cell_type": "code",
   "execution_count": 2,
   "id": "23213897",
   "metadata": {},
   "outputs": [
    {
     "data": {
      "text/plain": [
       "[47, 12, 23, 4, 85, 56]"
      ]
     },
     "execution_count": 2,
     "metadata": {},
     "output_type": "execute_result"
    }
   ],
   "source": [
    "list2=[47,12,23,4,85,56] #list of integers\n",
    "list2"
   ]
  },
  {
   "cell_type": "code",
   "execution_count": 3,
   "id": "a41766e2",
   "metadata": {},
   "outputs": [
    {
     "data": {
      "text/plain": [
       "[10.4, 44.67, 13.67, 77.9]"
      ]
     },
     "execution_count": 3,
     "metadata": {},
     "output_type": "execute_result"
    }
   ],
   "source": [
    "list3=[10.4,44.67,13.67,77.9] #list of floats\n",
    "list3"
   ]
  },
  {
   "cell_type": "code",
   "execution_count": 4,
   "id": "b90c2684",
   "metadata": {},
   "outputs": [
    {
     "data": {
      "text/plain": [
       "['Asif', 'Baseit', 'John', 'Michele', 'Angel', 'Jeff']"
      ]
     },
     "execution_count": 4,
     "metadata": {},
     "output_type": "execute_result"
    }
   ],
   "source": [
    "list4=[\"Asif\",\"Baseit\",\"John\",\"Michele\",\"Angel\",\"Jeff\"] #list of stings\n",
    "list4"
   ]
  },
  {
   "cell_type": "code",
   "execution_count": 5,
   "id": "539de372",
   "metadata": {},
   "outputs": [
    {
     "data": {
      "text/plain": [
       "['Asif', 25, [50, 100], [150, 90]]"
      ]
     },
     "execution_count": 5,
     "metadata": {},
     "output_type": "execute_result"
    }
   ],
   "source": [
    "list5=['Asif',25,[50,100],[150,90]] #Nested lists\n",
    "list5"
   ]
  },
  {
   "cell_type": "code",
   "execution_count": 6,
   "id": "c4f37971",
   "metadata": {},
   "outputs": [
    {
     "data": {
      "text/plain": [
       "[100, 'Asif', 17.765]"
      ]
     },
     "execution_count": 6,
     "metadata": {},
     "output_type": "execute_result"
    }
   ],
   "source": [
    "list6=[100,'Asif',17.765] #list of mixed data types\n",
    "list6"
   ]
  },
  {
   "cell_type": "code",
   "execution_count": 7,
   "id": "64223d03",
   "metadata": {},
   "outputs": [
    {
     "data": {
      "text/plain": [
       "['Asif', 25, [50, 100], [150, 90], {'David', 'John'}]"
      ]
     },
     "execution_count": 7,
     "metadata": {},
     "output_type": "execute_result"
    }
   ],
   "source": [
    "list7=['Asif',25,[50,100],[150,90],{'John','David'}] #list of mixed data types\n",
    "list7"
   ]
  },
  {
   "cell_type": "code",
   "execution_count": 8,
   "id": "09167852",
   "metadata": {},
   "outputs": [
    {
     "data": {
      "text/plain": [
       "4"
      ]
     },
     "execution_count": 8,
     "metadata": {},
     "output_type": "execute_result"
    }
   ],
   "source": [
    "len(list5)"
   ]
  },
  {
   "cell_type": "code",
   "execution_count": 9,
   "id": "32513d57",
   "metadata": {},
   "outputs": [
    {
     "data": {
      "text/plain": [
       "47"
      ]
     },
     "execution_count": 9,
     "metadata": {},
     "output_type": "execute_result"
    }
   ],
   "source": [
    "list2[0]"
   ]
  },
  {
   "cell_type": "code",
   "execution_count": 10,
   "id": "4fe58448",
   "metadata": {},
   "outputs": [
    {
     "data": {
      "text/plain": [
       "56"
      ]
     },
     "execution_count": 10,
     "metadata": {},
     "output_type": "execute_result"
    }
   ],
   "source": [
    "list2[-1]"
   ]
  },
  {
   "cell_type": "code",
   "execution_count": 11,
   "id": "b47c19d8",
   "metadata": {},
   "outputs": [
    {
     "data": {
      "text/plain": [
       "'A'"
      ]
     },
     "execution_count": 11,
     "metadata": {},
     "output_type": "execute_result"
    }
   ],
   "source": [
    "list4[0][0]"
   ]
  },
  {
   "cell_type": "markdown",
   "id": "1440a4f9",
   "metadata": {},
   "source": [
    "# List Slicing"
   ]
  },
  {
   "cell_type": "code",
   "execution_count": 12,
   "id": "4e445441",
   "metadata": {},
   "outputs": [
    {
     "data": {
      "text/plain": [
       "['one', 'two', 'three', 'four', 'five', 'six', 'seven', 'eight']"
      ]
     },
     "execution_count": 12,
     "metadata": {},
     "output_type": "execute_result"
    }
   ],
   "source": [
    "mylist=['one','two','three','four','five','six','seven','eight']\n",
    "mylist"
   ]
  },
  {
   "cell_type": "code",
   "execution_count": 13,
   "id": "7b598ab5",
   "metadata": {},
   "outputs": [
    {
     "data": {
      "text/plain": [
       "['one', 'two', 'three']"
      ]
     },
     "execution_count": 13,
     "metadata": {},
     "output_type": "execute_result"
    }
   ],
   "source": [
    "mylist[0:3]"
   ]
  },
  {
   "cell_type": "code",
   "execution_count": 14,
   "id": "3cf1bf28",
   "metadata": {},
   "outputs": [
    {
     "data": {
      "text/plain": [
       "['two', 'three']"
      ]
     },
     "execution_count": 14,
     "metadata": {},
     "output_type": "execute_result"
    }
   ],
   "source": [
    "mylist[1:3]"
   ]
  },
  {
   "cell_type": "code",
   "execution_count": 15,
   "id": "014f8879",
   "metadata": {},
   "outputs": [
    {
     "data": {
      "text/plain": [
       "['three']"
      ]
     },
     "execution_count": 15,
     "metadata": {},
     "output_type": "execute_result"
    }
   ],
   "source": [
    "mylist[2:3]"
   ]
  },
  {
   "cell_type": "code",
   "execution_count": 16,
   "id": "bb24eadb",
   "metadata": {},
   "outputs": [
    {
     "data": {
      "text/plain": [
       "['one', 'two', 'three']"
      ]
     },
     "execution_count": 16,
     "metadata": {},
     "output_type": "execute_result"
    }
   ],
   "source": [
    "mylist[:3]"
   ]
  },
  {
   "cell_type": "code",
   "execution_count": 17,
   "id": "3e5dddec",
   "metadata": {},
   "outputs": [
    {
     "data": {
      "text/plain": [
       "['three', 'four', 'five']"
      ]
     },
     "execution_count": 17,
     "metadata": {},
     "output_type": "execute_result"
    }
   ],
   "source": [
    "mylist[2:5]"
   ]
  },
  {
   "cell_type": "code",
   "execution_count": 18,
   "id": "25d717be",
   "metadata": {},
   "outputs": [
    {
     "data": {
      "text/plain": [
       "['six', 'seven', 'eight']"
      ]
     },
     "execution_count": 18,
     "metadata": {},
     "output_type": "execute_result"
    }
   ],
   "source": [
    "mylist[-3:]"
   ]
  },
  {
   "cell_type": "code",
   "execution_count": 19,
   "id": "0c1aca6c",
   "metadata": {},
   "outputs": [
    {
     "data": {
      "text/plain": [
       "['one', 'two', 'three', 'four', 'five']"
      ]
     },
     "execution_count": 19,
     "metadata": {},
     "output_type": "execute_result"
    }
   ],
   "source": [
    "mylist[:-3]"
   ]
  },
  {
   "cell_type": "code",
   "execution_count": 20,
   "id": "5217a314",
   "metadata": {},
   "outputs": [
    {
     "data": {
      "text/plain": [
       "'six'"
      ]
     },
     "execution_count": 20,
     "metadata": {},
     "output_type": "execute_result"
    }
   ],
   "source": [
    "mylist[-3]"
   ]
  },
  {
   "cell_type": "code",
   "execution_count": 21,
   "id": "70ccfe98",
   "metadata": {},
   "outputs": [
    {
     "data": {
      "text/plain": [
       "['one', 'two', 'three', 'four', 'five', 'six', 'seven', 'eight', 'nine']"
      ]
     },
     "execution_count": 21,
     "metadata": {},
     "output_type": "execute_result"
    }
   ],
   "source": [
    "mylist.append('nine')\n",
    "mylist"
   ]
  },
  {
   "cell_type": "code",
   "execution_count": 22,
   "id": "05e55162",
   "metadata": {},
   "outputs": [
    {
     "data": {
      "text/plain": [
       "['one', 'two', 'three', 'four', 'five', 'six', 'seven', 'eight', 'nine', 'ten']"
      ]
     },
     "execution_count": 22,
     "metadata": {},
     "output_type": "execute_result"
    }
   ],
   "source": [
    "mylist.insert(9,'ten')\n",
    "mylist"
   ]
  },
  {
   "cell_type": "code",
   "execution_count": 23,
   "id": "e9565054",
   "metadata": {},
   "outputs": [
    {
     "data": {
      "text/plain": [
       "['zero',\n",
       " 'one',\n",
       " 'two',\n",
       " 'three',\n",
       " 'four',\n",
       " 'five',\n",
       " 'six',\n",
       " 'seven',\n",
       " 'eight',\n",
       " 'nine',\n",
       " 'ten']"
      ]
     },
     "execution_count": 23,
     "metadata": {},
     "output_type": "execute_result"
    }
   ],
   "source": [
    "mylist.insert(0,'zero')\n",
    "mylist"
   ]
  },
  {
   "cell_type": "code",
   "execution_count": 24,
   "id": "5e442993",
   "metadata": {},
   "outputs": [
    {
     "data": {
      "text/plain": [
       "['one', 'two', 'three', 'four', 'five', 'six', 'seven', 'eight', 'nine', 'ten']"
      ]
     },
     "execution_count": 24,
     "metadata": {},
     "output_type": "execute_result"
    }
   ],
   "source": [
    "mylist.remove('zero')\n",
    "mylist"
   ]
  },
  {
   "cell_type": "code",
   "execution_count": 25,
   "id": "e1b69d2d",
   "metadata": {},
   "outputs": [
    {
     "data": {
      "text/plain": [
       "['one', 'two', 'three', 'four', 'five', 'six', 'seven', 'eight', 'nine']"
      ]
     },
     "execution_count": 25,
     "metadata": {},
     "output_type": "execute_result"
    }
   ],
   "source": [
    "mylist.pop()\n",
    "mylist"
   ]
  },
  {
   "cell_type": "code",
   "execution_count": 26,
   "id": "f34878bb",
   "metadata": {},
   "outputs": [
    {
     "data": {
      "text/plain": [
       "['one', 'two', 'three', 'four', 'five', 'six', 'eight', 'nine']"
      ]
     },
     "execution_count": 26,
     "metadata": {},
     "output_type": "execute_result"
    }
   ],
   "source": [
    "del mylist[6]\n",
    "mylist"
   ]
  },
  {
   "cell_type": "code",
   "execution_count": 27,
   "id": "82802739",
   "metadata": {},
   "outputs": [
    {
     "data": {
      "text/plain": [
       "[1, 2, 3, 'four', 'five', 'six', 'eight', 'nine']"
      ]
     },
     "execution_count": 27,
     "metadata": {},
     "output_type": "execute_result"
    }
   ],
   "source": [
    "mylist[0]=1\n",
    "mylist[1]=2\n",
    "mylist[2]=3\n",
    "mylist"
   ]
  },
  {
   "cell_type": "code",
   "execution_count": 28,
   "id": "6065c7fe",
   "metadata": {},
   "outputs": [
    {
     "data": {
      "text/plain": [
       "[]"
      ]
     },
     "execution_count": 28,
     "metadata": {},
     "output_type": "execute_result"
    }
   ],
   "source": [
    "mylist.clear()\n",
    "mylist"
   ]
  },
  {
   "cell_type": "code",
   "execution_count": 29,
   "id": "3d27c046",
   "metadata": {},
   "outputs": [
    {
     "ename": "NameError",
     "evalue": "name 'mylist' is not defined",
     "output_type": "error",
     "traceback": [
      "\u001b[1;31m---------------------------------------------------------------------------\u001b[0m",
      "\u001b[1;31mNameError\u001b[0m                                 Traceback (most recent call last)",
      "\u001b[1;32m~\\AppData\\Local\\Temp\\ipykernel_17020\\422619610.py\u001b[0m in \u001b[0;36m<module>\u001b[1;34m\u001b[0m\n\u001b[0;32m      1\u001b[0m \u001b[1;32mdel\u001b[0m \u001b[0mmylist\u001b[0m\u001b[1;33m\u001b[0m\u001b[1;33m\u001b[0m\u001b[0m\n\u001b[1;32m----> 2\u001b[1;33m \u001b[0mmylist\u001b[0m\u001b[1;33m\u001b[0m\u001b[1;33m\u001b[0m\u001b[0m\n\u001b[0m",
      "\u001b[1;31mNameError\u001b[0m: name 'mylist' is not defined"
     ]
    }
   ],
   "source": [
    "del mylist\n",
    "mylist"
   ]
  },
  {
   "cell_type": "code",
   "execution_count": 30,
   "id": "9f6956a0",
   "metadata": {},
   "outputs": [],
   "source": [
    "mylist=['one', 'two', 'three', 'four', 'five', 'six', 'seven', 'eight', 'nine', 'ten']"
   ]
  },
  {
   "cell_type": "code",
   "execution_count": 31,
   "id": "74c7f4ce",
   "metadata": {},
   "outputs": [
    {
     "data": {
      "text/plain": [
       "['one', 'two', 'three', 'four', 'five', 'six', 'seven', 'eight', 'nine', 'ten']"
      ]
     },
     "execution_count": 31,
     "metadata": {},
     "output_type": "execute_result"
    }
   ],
   "source": [
    "mylist1=mylist\n",
    "mylist1"
   ]
  },
  {
   "cell_type": "code",
   "execution_count": 32,
   "id": "be2d327d",
   "metadata": {},
   "outputs": [
    {
     "data": {
      "text/plain": [
       "(2126113275200, 2126113275200)"
      ]
     },
     "execution_count": 32,
     "metadata": {},
     "output_type": "execute_result"
    }
   ],
   "source": [
    "id(mylist),id(mylist1)"
   ]
  },
  {
   "cell_type": "code",
   "execution_count": 33,
   "id": "e07aca24",
   "metadata": {},
   "outputs": [
    {
     "data": {
      "text/plain": [
       "2126095710848"
      ]
     },
     "execution_count": 33,
     "metadata": {},
     "output_type": "execute_result"
    }
   ],
   "source": [
    "mylist2=mylist.copy()\n",
    "id(mylist2)"
   ]
  },
  {
   "cell_type": "code",
   "execution_count": 34,
   "id": "0ae2af44",
   "metadata": {},
   "outputs": [
    {
     "data": {
      "text/plain": [
       "['one', 'two', 'three', 'four', 'five', 'six', 'seven', 'eight', 'nine', 'ten']"
      ]
     },
     "execution_count": 34,
     "metadata": {},
     "output_type": "execute_result"
    }
   ],
   "source": [
    "mylist2"
   ]
  },
  {
   "cell_type": "code",
   "execution_count": 35,
   "id": "094507c5",
   "metadata": {},
   "outputs": [
    {
     "data": {
      "text/plain": [
       "(2126113275200, 2126113275200)"
      ]
     },
     "execution_count": 35,
     "metadata": {},
     "output_type": "execute_result"
    }
   ],
   "source": [
    "mylist1[0]=1\n",
    "id(mylist1), id(mylist)"
   ]
  },
  {
   "cell_type": "code",
   "execution_count": 36,
   "id": "7f8c0436",
   "metadata": {},
   "outputs": [
    {
     "data": {
      "text/plain": [
       "[1, 'two', 'three', 'four', 'five', 'six', 'seven', 'eight', 'nine', 'ten']"
      ]
     },
     "execution_count": 36,
     "metadata": {},
     "output_type": "execute_result"
    }
   ],
   "source": [
    "mylist"
   ]
  },
  {
   "cell_type": "code",
   "execution_count": 37,
   "id": "8de88b7e",
   "metadata": {},
   "outputs": [
    {
     "data": {
      "text/plain": [
       "[1, 'two', 'three', 'four', 'five', 'six', 'seven', 'eight', 'nine', 'ten']"
      ]
     },
     "execution_count": 37,
     "metadata": {},
     "output_type": "execute_result"
    }
   ],
   "source": [
    "mylist1"
   ]
  },
  {
   "cell_type": "code",
   "execution_count": 38,
   "id": "56130188",
   "metadata": {},
   "outputs": [
    {
     "data": {
      "text/plain": [
       "['one', 'two', 'three', 'four', 'five', 'six', 'seven', 'eight', 'nine', 'ten']"
      ]
     },
     "execution_count": 38,
     "metadata": {},
     "output_type": "execute_result"
    }
   ],
   "source": [
    "mylist2"
   ]
  },
  {
   "cell_type": "code",
   "execution_count": 39,
   "id": "f2ff5a77",
   "metadata": {},
   "outputs": [
    {
     "data": {
      "text/plain": [
       "['one', 'two', 'three', 'four', 'five', 'six', 'seven', 'eight', 'nine']"
      ]
     },
     "execution_count": 39,
     "metadata": {},
     "output_type": "execute_result"
    }
   ],
   "source": [
    "list1=['one', 'two', 'three', 'four']\n",
    "list2=['five', 'six', 'seven', 'eight', 'nine']\n",
    "list3=list1+list2\n",
    "list3"
   ]
  },
  {
   "cell_type": "code",
   "execution_count": 40,
   "id": "f6b0739e",
   "metadata": {},
   "outputs": [
    {
     "data": {
      "text/plain": [
       "['five', 'six', 'seven', 'eight', 'nine', 'one', 'two', 'three', 'four']"
      ]
     },
     "execution_count": 40,
     "metadata": {},
     "output_type": "execute_result"
    }
   ],
   "source": [
    "list4=list2+list1\n",
    "list4"
   ]
  },
  {
   "cell_type": "code",
   "execution_count": 41,
   "id": "65eb7326",
   "metadata": {},
   "outputs": [
    {
     "data": {
      "text/plain": [
       "['nine', 'eight', 'seven', 'six', 'five', 'four', 'three', 'two', 'one']"
      ]
     },
     "execution_count": 41,
     "metadata": {},
     "output_type": "execute_result"
    }
   ],
   "source": [
    "list3.reverse()\n",
    "list3"
   ]
  },
  {
   "cell_type": "code",
   "execution_count": 42,
   "id": "d34b0de9",
   "metadata": {},
   "outputs": [
    {
     "data": {
      "text/plain": [
       "['one', 'two', 'three', 'four', 'five', 'six', 'seven', 'eight', 'nine']"
      ]
     },
     "execution_count": 42,
     "metadata": {},
     "output_type": "execute_result"
    }
   ],
   "source": [
    "list3[::-1]"
   ]
  },
  {
   "cell_type": "code",
   "execution_count": 43,
   "id": "ee63e9a0",
   "metadata": {},
   "outputs": [
    {
     "data": {
      "text/plain": [
       "[4, 12, 23, 47, 56, 85]"
      ]
     },
     "execution_count": 43,
     "metadata": {},
     "output_type": "execute_result"
    }
   ],
   "source": [
    "list2=[47,12,23,4,85,56]\n",
    "list2.sort()\n",
    "list2"
   ]
  },
  {
   "cell_type": "code",
   "execution_count": 44,
   "id": "713dd401",
   "metadata": {},
   "outputs": [
    {
     "data": {
      "text/plain": [
       "[85, 56, 47, 23, 12, 4]"
      ]
     },
     "execution_count": 44,
     "metadata": {},
     "output_type": "execute_result"
    }
   ],
   "source": [
    "list2.sort(reverse=True)\n",
    "list2"
   ]
  },
  {
   "cell_type": "code",
   "execution_count": 45,
   "id": "d71edfb1",
   "metadata": {},
   "outputs": [
    {
     "data": {
      "text/plain": [
       "[4, 12, 23, 47, 56, 85]"
      ]
     },
     "execution_count": 45,
     "metadata": {},
     "output_type": "execute_result"
    }
   ],
   "source": [
    "list2=[47,12,23,4,85,56]\n",
    "sorted(list2)"
   ]
  },
  {
   "cell_type": "code",
   "execution_count": 46,
   "id": "b966b4b5",
   "metadata": {},
   "outputs": [
    {
     "data": {
      "text/plain": [
       "[47, 12, 23, 4, 85, 56]"
      ]
     },
     "execution_count": 46,
     "metadata": {},
     "output_type": "execute_result"
    }
   ],
   "source": [
    "list2"
   ]
  },
  {
   "cell_type": "code",
   "execution_count": 47,
   "id": "373f3f48",
   "metadata": {},
   "outputs": [
    {
     "data": {
      "text/plain": [
       "['one', 'two', 'three', 'four', 'five', 'six', 'seven', 'eight', 'nine', 'ten']"
      ]
     },
     "execution_count": 47,
     "metadata": {},
     "output_type": "execute_result"
    }
   ],
   "source": [
    "mylist2"
   ]
  },
  {
   "cell_type": "code",
   "execution_count": 48,
   "id": "254e0f6a",
   "metadata": {},
   "outputs": [
    {
     "name": "stdout",
     "output_type": "stream",
     "text": [
      "one\n",
      "two\n",
      "three\n",
      "four\n",
      "five\n",
      "six\n",
      "seven\n",
      "eight\n",
      "nine\n",
      "ten\n"
     ]
    }
   ],
   "source": [
    "for i in mylist2:\n",
    "    print(i)"
   ]
  },
  {
   "cell_type": "code",
   "execution_count": 49,
   "id": "588631b4",
   "metadata": {},
   "outputs": [
    {
     "name": "stdout",
     "output_type": "stream",
     "text": [
      "(0, 'one')\n",
      "(1, 'two')\n",
      "(2, 'three')\n",
      "(3, 'four')\n",
      "(4, 'five')\n",
      "(5, 'six')\n",
      "(6, 'seven')\n",
      "(7, 'eight')\n",
      "(8, 'nine')\n",
      "(9, 'ten')\n"
     ]
    }
   ],
   "source": [
    "for i in enumerate(mylist2):\n",
    "    print(i)"
   ]
  },
  {
   "cell_type": "code",
   "execution_count": 50,
   "id": "108b9170",
   "metadata": {},
   "outputs": [
    {
     "data": {
      "text/plain": [
       "['one', 'two', 'three', 'one', 'five', 'three', 'seven', 'one', 'nine', 'nine']"
      ]
     },
     "execution_count": 50,
     "metadata": {},
     "output_type": "execute_result"
    }
   ],
   "source": [
    "lst=['one', 'two', 'three', 'one', 'five', 'three', 'seven', 'one', 'nine', 'nine']\n",
    "lst"
   ]
  },
  {
   "cell_type": "code",
   "execution_count": 51,
   "id": "a3d88dbc",
   "metadata": {},
   "outputs": [
    {
     "data": {
      "text/plain": [
       "3"
      ]
     },
     "execution_count": 51,
     "metadata": {},
     "output_type": "execute_result"
    }
   ],
   "source": [
    "lst.count('one')"
   ]
  },
  {
   "cell_type": "code",
   "execution_count": 52,
   "id": "113f4ba7",
   "metadata": {},
   "outputs": [
    {
     "data": {
      "text/plain": [
       "2"
      ]
     },
     "execution_count": 52,
     "metadata": {},
     "output_type": "execute_result"
    }
   ],
   "source": [
    "lst.count('nine')"
   ]
  },
  {
   "cell_type": "code",
   "execution_count": 53,
   "id": "88c0b53c",
   "metadata": {},
   "outputs": [
    {
     "data": {
      "text/plain": [
       "1"
      ]
     },
     "execution_count": 53,
     "metadata": {},
     "output_type": "execute_result"
    }
   ],
   "source": [
    "lst.count('five')"
   ]
  },
  {
   "cell_type": "code",
   "execution_count": 54,
   "id": "f42938da",
   "metadata": {},
   "outputs": [
    {
     "data": {
      "text/plain": [
       "['W', 'E', 'L', 'C', 'O', 'M', 'E']"
      ]
     },
     "execution_count": 54,
     "metadata": {},
     "output_type": "execute_result"
    }
   ],
   "source": [
    "mystring='WELCOME'\n",
    "mylist=[i for i in mystring]\n",
    "mylist"
   ]
  },
  {
   "cell_type": "code",
   "execution_count": 55,
   "id": "add5c079",
   "metadata": {},
   "outputs": [
    {
     "data": {
      "text/plain": [
       "[0, 2, 4, 6, 8, 10, 12, 14, 16, 18, 20, 22, 24, 26, 28, 30, 32, 34, 36, 38, 40]"
      ]
     },
     "execution_count": 55,
     "metadata": {},
     "output_type": "execute_result"
    }
   ],
   "source": [
    "mylist1=[i for i in range(41) if i % 2 == 0]\n",
    "mylist1"
   ]
  },
  {
   "cell_type": "code",
   "execution_count": 56,
   "id": "c68eb25e",
   "metadata": {},
   "outputs": [
    {
     "data": {
      "text/plain": [
       "[1, 3, 5, 7, 9, 11, 13, 15, 17, 19, 21, 23, 25, 27, 29, 31, 33, 35, 37, 39]"
      ]
     },
     "execution_count": 56,
     "metadata": {},
     "output_type": "execute_result"
    }
   ],
   "source": [
    "mylist2=[i for i in range(41) if i % 2 == 1]\n",
    "mylist2"
   ]
  },
  {
   "cell_type": "code",
   "execution_count": 57,
   "id": "e56e16f7",
   "metadata": {},
   "outputs": [
    {
     "data": {
      "text/plain": [
       "[0, 1, 4, 9, 16, 25, 36, 49, 64, 81, 100]"
      ]
     },
     "execution_count": 57,
     "metadata": {},
     "output_type": "execute_result"
    }
   ],
   "source": [
    "mylist3=[num**2 for num in range(11)]\n",
    "mylist3"
   ]
  },
  {
   "cell_type": "code",
   "execution_count": 58,
   "id": "e91cb07e",
   "metadata": {},
   "outputs": [
    {
     "data": {
      "text/plain": [
       "['1', '2', '3', '4', '5', '6', '7', '8', '9']"
      ]
     },
     "execution_count": 58,
     "metadata": {},
     "output_type": "execute_result"
    }
   ],
   "source": [
    "# Extract numbers from a string\n",
    "mystr=\"One 1 two 2 three 3 four 4 five 5 six 6789\"\n",
    "numbers=[i for i in mystr if i.isdigit()]\n",
    "numbers"
   ]
  },
  {
   "cell_type": "code",
   "execution_count": 59,
   "id": "474f8fc2",
   "metadata": {},
   "outputs": [
    {
     "data": {
      "text/plain": [
       "['1', '2', '3', '4', '5', '6789']"
      ]
     },
     "execution_count": 59,
     "metadata": {},
     "output_type": "execute_result"
    }
   ],
   "source": [
    "lst=[val for val in mystr.split(' ') if val.isnumeric()]\n",
    "lst"
   ]
  },
  {
   "cell_type": "code",
   "execution_count": 60,
   "id": "e11399cc",
   "metadata": {},
   "outputs": [
    {
     "data": {
      "text/plain": [
       "['O',\n",
       " 'n',\n",
       " 'e',\n",
       " 't',\n",
       " 'w',\n",
       " 'o',\n",
       " 't',\n",
       " 'h',\n",
       " 'r',\n",
       " 'e',\n",
       " 'e',\n",
       " 'f',\n",
       " 'o',\n",
       " 'u',\n",
       " 'r',\n",
       " 'f',\n",
       " 'i',\n",
       " 'v',\n",
       " 'e',\n",
       " 's',\n",
       " 'i',\n",
       " 'x']"
      ]
     },
     "execution_count": 60,
     "metadata": {},
     "output_type": "execute_result"
    }
   ],
   "source": [
    "numbers=[i for i in mystr if i.isalpha()]\n",
    "numbers"
   ]
  },
  {
   "cell_type": "code",
   "execution_count": 61,
   "id": "7458e343",
   "metadata": {},
   "outputs": [
    {
     "data": {
      "text/plain": [
       "()"
      ]
     },
     "execution_count": 61,
     "metadata": {},
     "output_type": "execute_result"
    }
   ],
   "source": [
    "tup1=()\n",
    "tup1"
   ]
  },
  {
   "cell_type": "code",
   "execution_count": 62,
   "id": "25ab593a",
   "metadata": {},
   "outputs": [
    {
     "data": {
      "text/plain": [
       "(10, 20, 30)"
      ]
     },
     "execution_count": 62,
     "metadata": {},
     "output_type": "execute_result"
    }
   ],
   "source": [
    "tup1=(10,20,30)\n",
    "tup1"
   ]
  },
  {
   "cell_type": "code",
   "execution_count": 63,
   "id": "9c04c901",
   "metadata": {},
   "outputs": [
    {
     "data": {
      "text/plain": [
       "(10.4, 44.67, 13.67, 77.9)"
      ]
     },
     "execution_count": 63,
     "metadata": {},
     "output_type": "execute_result"
    }
   ],
   "source": [
    "tup2=(10.4,44.67,13.67,77.9)\n",
    "tup2"
   ]
  },
  {
   "cell_type": "code",
   "execution_count": 64,
   "id": "082b2e6c",
   "metadata": {},
   "outputs": [
    {
     "data": {
      "text/plain": [
       "('Asif', 'Baseit', 'John', 'Michele', 'Angel', 'Jeff')"
      ]
     },
     "execution_count": 64,
     "metadata": {},
     "output_type": "execute_result"
    }
   ],
   "source": [
    "tup4=(\"Asif\",\"Baseit\",\"John\",\"Michele\",\"Angel\",\"Jeff\")\n",
    "tup4"
   ]
  },
  {
   "cell_type": "code",
   "execution_count": 65,
   "id": "b69de5ea",
   "metadata": {},
   "outputs": [
    {
     "data": {
      "text/plain": [
       "('Asif', 25, (50, 100), (150, 90))"
      ]
     },
     "execution_count": 65,
     "metadata": {},
     "output_type": "execute_result"
    }
   ],
   "source": [
    "tup5=('Asif',25,(50,100),(150,90))\n",
    "tup5"
   ]
  },
  {
   "cell_type": "code",
   "execution_count": 66,
   "id": "e92f30f5",
   "metadata": {},
   "outputs": [
    {
     "data": {
      "text/plain": [
       "(100, 'Asif', 17.765)"
      ]
     },
     "execution_count": 66,
     "metadata": {},
     "output_type": "execute_result"
    }
   ],
   "source": [
    "tup6=(100,'Asif',17.765)\n",
    "tup6"
   ]
  },
  {
   "cell_type": "code",
   "execution_count": 67,
   "id": "be394893",
   "metadata": {},
   "outputs": [
    {
     "data": {
      "text/plain": [
       "('Asif', 25, [50, 100], [150, 90], {'David', 'John'}, (99, 22, 33))"
      ]
     },
     "execution_count": 67,
     "metadata": {},
     "output_type": "execute_result"
    }
   ],
   "source": [
    "tup7=('Asif',25,[50,100],[150,90],{'John','David'},(99,22,33))\n",
    "tup7"
   ]
  },
  {
   "cell_type": "code",
   "execution_count": 68,
   "id": "aeae12fa",
   "metadata": {},
   "outputs": [
    {
     "data": {
      "text/plain": [
       "6"
      ]
     },
     "execution_count": 68,
     "metadata": {},
     "output_type": "execute_result"
    }
   ],
   "source": [
    "len(tup7)"
   ]
  },
  {
   "cell_type": "code",
   "execution_count": 69,
   "id": "6962302a",
   "metadata": {},
   "outputs": [
    {
     "data": {
      "text/plain": [
       "'Asif'"
      ]
     },
     "execution_count": 69,
     "metadata": {},
     "output_type": "execute_result"
    }
   ],
   "source": [
    "tup7[0]"
   ]
  },
  {
   "cell_type": "code",
   "execution_count": 70,
   "id": "68f28208",
   "metadata": {},
   "outputs": [
    {
     "data": {
      "text/plain": [
       "'Baseit'"
      ]
     },
     "execution_count": 70,
     "metadata": {},
     "output_type": "execute_result"
    }
   ],
   "source": [
    "tup4[1]"
   ]
  },
  {
   "cell_type": "code",
   "execution_count": 71,
   "id": "86e63682",
   "metadata": {},
   "outputs": [
    {
     "data": {
      "text/plain": [
       "'A'"
      ]
     },
     "execution_count": 71,
     "metadata": {},
     "output_type": "execute_result"
    }
   ],
   "source": [
    "tup7[0][0]"
   ]
  },
  {
   "cell_type": "code",
   "execution_count": 72,
   "id": "09aa9d29",
   "metadata": {},
   "outputs": [
    {
     "data": {
      "text/plain": [
       "[50, 100]"
      ]
     },
     "execution_count": 72,
     "metadata": {},
     "output_type": "execute_result"
    }
   ],
   "source": [
    "tup7[-4]"
   ]
  },
  {
   "cell_type": "code",
   "execution_count": 73,
   "id": "03fde608",
   "metadata": {},
   "outputs": [
    {
     "data": {
      "text/plain": [
       "('one', 'two', 'three', 'four', 'five', 'six', 'seven', 'eight', 'nine')"
      ]
     },
     "execution_count": 73,
     "metadata": {},
     "output_type": "execute_result"
    }
   ],
   "source": [
    "mytup=('one', 'two', 'three', 'four', 'five', 'six', 'seven', 'eight', 'nine')\n",
    "mytup"
   ]
  },
  {
   "cell_type": "code",
   "execution_count": 74,
   "id": "a2f95c80",
   "metadata": {},
   "outputs": [
    {
     "data": {
      "text/plain": [
       "('one', 'two', 'three')"
      ]
     },
     "execution_count": 74,
     "metadata": {},
     "output_type": "execute_result"
    }
   ],
   "source": [
    "mytup[0:3]"
   ]
  },
  {
   "cell_type": "code",
   "execution_count": 75,
   "id": "2846f1c8",
   "metadata": {},
   "outputs": [
    {
     "data": {
      "text/plain": [
       "('four', 'five', 'six')"
      ]
     },
     "execution_count": 75,
     "metadata": {},
     "output_type": "execute_result"
    }
   ],
   "source": [
    "mytup[3:6]"
   ]
  },
  {
   "cell_type": "code",
   "execution_count": 76,
   "id": "a8b72d1a",
   "metadata": {},
   "outputs": [
    {
     "data": {
      "text/plain": [
       "('one', 'two', 'three')"
      ]
     },
     "execution_count": 76,
     "metadata": {},
     "output_type": "execute_result"
    }
   ],
   "source": [
    "mytup[:3]"
   ]
  },
  {
   "cell_type": "code",
   "execution_count": 77,
   "id": "88efd147",
   "metadata": {},
   "outputs": [
    {
     "data": {
      "text/plain": [
       "('one', 'two', 'three', 'four', 'five', 'six')"
      ]
     },
     "execution_count": 77,
     "metadata": {},
     "output_type": "execute_result"
    }
   ],
   "source": [
    "mytup[:-3]"
   ]
  },
  {
   "cell_type": "code",
   "execution_count": 78,
   "id": "2cbb4dd4",
   "metadata": {},
   "outputs": [
    {
     "data": {
      "text/plain": [
       "('seven', 'eight', 'nine')"
      ]
     },
     "execution_count": 78,
     "metadata": {},
     "output_type": "execute_result"
    }
   ],
   "source": [
    "mytup[-3:]"
   ]
  },
  {
   "cell_type": "code",
   "execution_count": 79,
   "id": "1b599b47",
   "metadata": {},
   "outputs": [
    {
     "ename": "TypeError",
     "evalue": "'tuple' object doesn't support item deletion",
     "output_type": "error",
     "traceback": [
      "\u001b[1;31m---------------------------------------------------------------------------\u001b[0m",
      "\u001b[1;31mTypeError\u001b[0m                                 Traceback (most recent call last)",
      "\u001b[1;32m~\\AppData\\Local\\Temp\\ipykernel_17020\\2866812965.py\u001b[0m in \u001b[0;36m<module>\u001b[1;34m\u001b[0m\n\u001b[1;32m----> 1\u001b[1;33m \u001b[1;32mdel\u001b[0m \u001b[0mmytup\u001b[0m\u001b[1;33m[\u001b[0m\u001b[1;36m0\u001b[0m\u001b[1;33m]\u001b[0m\u001b[1;33m\u001b[0m\u001b[1;33m\u001b[0m\u001b[0m\n\u001b[0m",
      "\u001b[1;31mTypeError\u001b[0m: 'tuple' object doesn't support item deletion"
     ]
    }
   ],
   "source": [
    "del mytup[0]"
   ]
  },
  {
   "cell_type": "code",
   "execution_count": 80,
   "id": "9cc5b3d9",
   "metadata": {},
   "outputs": [
    {
     "ename": "TypeError",
     "evalue": "'tuple' object does not support item assignment",
     "output_type": "error",
     "traceback": [
      "\u001b[1;31m---------------------------------------------------------------------------\u001b[0m",
      "\u001b[1;31mTypeError\u001b[0m                                 Traceback (most recent call last)",
      "\u001b[1;32m~\\AppData\\Local\\Temp\\ipykernel_17020\\3751901355.py\u001b[0m in \u001b[0;36m<module>\u001b[1;34m\u001b[0m\n\u001b[1;32m----> 1\u001b[1;33m \u001b[0mmytup\u001b[0m\u001b[1;33m[\u001b[0m\u001b[1;36m0\u001b[0m\u001b[1;33m]\u001b[0m\u001b[1;33m=\u001b[0m\u001b[1;36m1\u001b[0m\u001b[1;33m\u001b[0m\u001b[1;33m\u001b[0m\u001b[0m\n\u001b[0m",
      "\u001b[1;31mTypeError\u001b[0m: 'tuple' object does not support item assignment"
     ]
    }
   ],
   "source": [
    "mytup[0]=1"
   ]
  },
  {
   "cell_type": "code",
   "execution_count": 81,
   "id": "e8711a26",
   "metadata": {},
   "outputs": [
    {
     "name": "stdout",
     "output_type": "stream",
     "text": [
      "one\n",
      "two\n",
      "three\n",
      "four\n",
      "five\n",
      "six\n",
      "seven\n",
      "eight\n",
      "nine\n"
     ]
    }
   ],
   "source": [
    "for i in mytup:\n",
    "    print(i)"
   ]
  },
  {
   "cell_type": "code",
   "execution_count": 82,
   "id": "e4d81b0f",
   "metadata": {},
   "outputs": [
    {
     "name": "stdout",
     "output_type": "stream",
     "text": [
      "(0, 'one')\n",
      "(1, 'two')\n",
      "(2, 'three')\n",
      "(3, 'four')\n",
      "(4, 'five')\n",
      "(5, 'six')\n",
      "(6, 'seven')\n",
      "(7, 'eight')\n",
      "(8, 'nine')\n"
     ]
    }
   ],
   "source": [
    "for i in enumerate(mytup):\n",
    "    print(i)"
   ]
  },
  {
   "cell_type": "code",
   "execution_count": 83,
   "id": "073cbff4",
   "metadata": {},
   "outputs": [
    {
     "ename": "NameError",
     "evalue": "name 'mytup' is not defined",
     "output_type": "error",
     "traceback": [
      "\u001b[1;31m---------------------------------------------------------------------------\u001b[0m",
      "\u001b[1;31mNameError\u001b[0m                                 Traceback (most recent call last)",
      "\u001b[1;32m~\\AppData\\Local\\Temp\\ipykernel_17020\\1541298545.py\u001b[0m in \u001b[0;36m<module>\u001b[1;34m\u001b[0m\n\u001b[0;32m      1\u001b[0m \u001b[1;32mdel\u001b[0m \u001b[0mmytup\u001b[0m\u001b[1;33m\u001b[0m\u001b[1;33m\u001b[0m\u001b[0m\n\u001b[1;32m----> 2\u001b[1;33m \u001b[0mmytup\u001b[0m\u001b[1;33m\u001b[0m\u001b[1;33m\u001b[0m\u001b[0m\n\u001b[0m",
      "\u001b[1;31mNameError\u001b[0m: name 'mytup' is not defined"
     ]
    }
   ],
   "source": [
    "del mytup\n",
    "mytup"
   ]
  },
  {
   "cell_type": "code",
   "execution_count": 84,
   "id": "241c2681",
   "metadata": {},
   "outputs": [
    {
     "data": {
      "text/plain": [
       "('one', 'two', 'three', 'four', 'one', 'one', 'two', 'three')"
      ]
     },
     "execution_count": 84,
     "metadata": {},
     "output_type": "execute_result"
    }
   ],
   "source": [
    "mytup1=('one','two','three','four','one','one','two','three')\n",
    "mytup1"
   ]
  },
  {
   "cell_type": "code",
   "execution_count": 85,
   "id": "9c799703",
   "metadata": {},
   "outputs": [
    {
     "data": {
      "text/plain": [
       "3"
      ]
     },
     "execution_count": 85,
     "metadata": {},
     "output_type": "execute_result"
    }
   ],
   "source": [
    "mytup1.count('one')"
   ]
  },
  {
   "cell_type": "code",
   "execution_count": 86,
   "id": "8d651c67",
   "metadata": {},
   "outputs": [
    {
     "data": {
      "text/plain": [
       "2"
      ]
     },
     "execution_count": 86,
     "metadata": {},
     "output_type": "execute_result"
    }
   ],
   "source": [
    "mytup1.count('two')"
   ]
  },
  {
   "cell_type": "code",
   "execution_count": 87,
   "id": "3cb01254",
   "metadata": {},
   "outputs": [
    {
     "data": {
      "text/plain": [
       "True"
      ]
     },
     "execution_count": 87,
     "metadata": {},
     "output_type": "execute_result"
    }
   ],
   "source": [
    "'one' in mytup1"
   ]
  },
  {
   "cell_type": "code",
   "execution_count": 88,
   "id": "74aded10",
   "metadata": {},
   "outputs": [
    {
     "data": {
      "text/plain": [
       "('one', 'two', 'three', 'four', 'five', 'six', 'seven', 'eight', 'nine')"
      ]
     },
     "execution_count": 88,
     "metadata": {},
     "output_type": "execute_result"
    }
   ],
   "source": [
    "mytup=('one', 'two', 'three', 'four', 'five', 'six', 'seven', 'eight', 'nine')\n",
    "mytup"
   ]
  },
  {
   "cell_type": "code",
   "execution_count": 89,
   "id": "17b5c443",
   "metadata": {},
   "outputs": [
    {
     "data": {
      "text/plain": [
       "4"
      ]
     },
     "execution_count": 89,
     "metadata": {},
     "output_type": "execute_result"
    }
   ],
   "source": [
    "mytup.index('five')"
   ]
  },
  {
   "cell_type": "code",
   "execution_count": 90,
   "id": "9402e82b",
   "metadata": {},
   "outputs": [],
   "source": [
    "mytup2=(47,12,23,4,85,56)"
   ]
  },
  {
   "cell_type": "code",
   "execution_count": 91,
   "id": "af59c715",
   "metadata": {},
   "outputs": [
    {
     "data": {
      "text/plain": [
       "[4, 12, 23, 47, 56, 85]"
      ]
     },
     "execution_count": 91,
     "metadata": {},
     "output_type": "execute_result"
    }
   ],
   "source": [
    "sorted(mytup2)"
   ]
  },
  {
   "cell_type": "code",
   "execution_count": 92,
   "id": "dd815b3e",
   "metadata": {},
   "outputs": [
    {
     "data": {
      "text/plain": [
       "[85, 56, 47, 23, 12, 4]"
      ]
     },
     "execution_count": 92,
     "metadata": {},
     "output_type": "execute_result"
    }
   ],
   "source": [
    "sorted(mytup2,reverse=True)"
   ]
  },
  {
   "cell_type": "markdown",
   "id": "77a7c6df",
   "metadata": {},
   "source": [
    "# Sets"
   ]
  },
  {
   "cell_type": "code",
   "execution_count": 3,
   "id": "ca1525ac",
   "metadata": {},
   "outputs": [],
   "source": [
    "A={1,2,3,4,5,6}\n",
    "B={6,7,9}\n",
    "C={8,9,10}"
   ]
  },
  {
   "cell_type": "code",
   "execution_count": 4,
   "id": "6b8cad2f",
   "metadata": {},
   "outputs": [
    {
     "data": {
      "text/plain": [
       "{1, 2, 3, 4, 5, 6, 7, 9}"
      ]
     },
     "execution_count": 4,
     "metadata": {},
     "output_type": "execute_result"
    }
   ],
   "source": [
    "A | B"
   ]
  },
  {
   "cell_type": "code",
   "execution_count": 5,
   "id": "9c475eff",
   "metadata": {},
   "outputs": [
    {
     "data": {
      "text/plain": [
       "{6, 7, 8, 9, 10}"
      ]
     },
     "execution_count": 5,
     "metadata": {},
     "output_type": "execute_result"
    }
   ],
   "source": [
    "B | C"
   ]
  },
  {
   "cell_type": "code",
   "execution_count": 6,
   "id": "8e621f36",
   "metadata": {},
   "outputs": [
    {
     "data": {
      "text/plain": [
       "{1, 2, 3, 4, 5, 6, 7, 8, 9, 10}"
      ]
     },
     "execution_count": 6,
     "metadata": {},
     "output_type": "execute_result"
    }
   ],
   "source": [
    "A | B | C"
   ]
  },
  {
   "cell_type": "code",
   "execution_count": 7,
   "id": "8ca21b48",
   "metadata": {},
   "outputs": [
    {
     "data": {
      "text/plain": [
       "{6}"
      ]
     },
     "execution_count": 7,
     "metadata": {},
     "output_type": "execute_result"
    }
   ],
   "source": [
    "A & B"
   ]
  },
  {
   "cell_type": "code",
   "execution_count": 8,
   "id": "997ca412",
   "metadata": {},
   "outputs": [
    {
     "data": {
      "text/plain": [
       "{9}"
      ]
     },
     "execution_count": 8,
     "metadata": {},
     "output_type": "execute_result"
    }
   ],
   "source": [
    "C & B"
   ]
  },
  {
   "cell_type": "code",
   "execution_count": 9,
   "id": "240f9872",
   "metadata": {},
   "outputs": [
    {
     "data": {
      "text/plain": [
       "{1, 2, 3, 4, 5}"
      ]
     },
     "execution_count": 9,
     "metadata": {},
     "output_type": "execute_result"
    }
   ],
   "source": [
    "A-B"
   ]
  },
  {
   "cell_type": "code",
   "execution_count": 10,
   "id": "ffd9cd9a",
   "metadata": {},
   "outputs": [
    {
     "data": {
      "text/plain": [
       "{6, 7}"
      ]
     },
     "execution_count": 10,
     "metadata": {},
     "output_type": "execute_result"
    }
   ],
   "source": [
    "B-C"
   ]
  },
  {
   "cell_type": "code",
   "execution_count": 11,
   "id": "1c63f962",
   "metadata": {},
   "outputs": [
    {
     "data": {
      "text/plain": [
       "{8, 10}"
      ]
     },
     "execution_count": 11,
     "metadata": {},
     "output_type": "execute_result"
    }
   ],
   "source": [
    "C-B"
   ]
  },
  {
   "cell_type": "code",
   "execution_count": 12,
   "id": "6a4923c9",
   "metadata": {},
   "outputs": [
    {
     "data": {
      "text/plain": [
       "{7, 9}"
      ]
     },
     "execution_count": 12,
     "metadata": {},
     "output_type": "execute_result"
    }
   ],
   "source": [
    "B-A"
   ]
  },
  {
   "cell_type": "code",
   "execution_count": 13,
   "id": "3c5bb945",
   "metadata": {},
   "outputs": [
    {
     "data": {
      "text/plain": [
       "{1, 2, 3, 4, 5, 7, 9}"
      ]
     },
     "execution_count": 13,
     "metadata": {},
     "output_type": "execute_result"
    }
   ],
   "source": [
    "A^B"
   ]
  },
  {
   "cell_type": "code",
   "execution_count": null,
   "id": "77454f90",
   "metadata": {},
   "outputs": [],
   "source": []
  }
 ],
 "metadata": {
  "kernelspec": {
   "display_name": "Python 3 (ipykernel)",
   "language": "python",
   "name": "python3"
  },
  "language_info": {
   "codemirror_mode": {
    "name": "ipython",
    "version": 3
   },
   "file_extension": ".py",
   "mimetype": "text/x-python",
   "name": "python",
   "nbconvert_exporter": "python",
   "pygments_lexer": "ipython3",
   "version": "3.10.9"
  }
 },
 "nbformat": 4,
 "nbformat_minor": 5
}
