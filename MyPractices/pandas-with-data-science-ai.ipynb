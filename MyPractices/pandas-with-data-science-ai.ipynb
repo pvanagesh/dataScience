{
 "cells": [
  {
   "cell_type": "markdown",
   "metadata": {
    "_uuid": "52a4d13ff767e17bbd8c0d8de2ac4b97174a519e"
   },
   "source": [
    "# &#127909; Intro Of This NoteBook:\n",
    " This notebook uses a dataset from the [MovieLens 20M Dataset](https://www.kaggle.com/grouplens/movielens-20m-dataset). We will describe the dataset further as we explore with it using pandas.\n"
   ]
  },
  {
   "cell_type": "markdown",
   "metadata": {
    "_cell_guid": "b1076dfc-b9ad-4769-8c92-a6c4dae69d19",
    "_uuid": "8f2839f25d086af736a60e9eeb907d3b93b6e0e5"
   },
   "source": [
    "![Imgur](https://i.imgur.com/sO3hkdl.png)"
   ]
  },
  {
   "cell_type": "markdown",
   "metadata": {
    "_cell_guid": "79c7e3d0-c299-4dcb-8224-4455121ee9b0",
    "_uuid": "d629ff2d2480ee46fbb7e2d37f6b5fab8052498a",
    "collapsed": true
   },
   "source": [
    "# &#128279; Code Library, Style, and Links "
   ]
  },
  {
   "cell_type": "code",
   "execution_count": null,
   "metadata": {
    "_uuid": "e788fb08f09a765a84932fa3dcc06922781eae7c",
    "collapsed": true
   },
   "outputs": [],
   "source": [
    "%%html\n",
    "<style>\n",
    "@import url('https://fonts.googleapis.com/css?family=Ewert|Roboto&effect=3d|ice|');\n",
    "body {background-color: gainsboro;} \n",
    "a {color: #37c9e1; font-family: 'Roboto';} \n",
    "h1 {color: #37c9e1; font-family: 'Orbitron'; text-shadow: 4px 4px 4px #aaa;} \n",
    "h2, h3 {color: slategray; font-family: 'Orbitron'; text-shadow: 4px 4px 4px #aaa;}\n",
    "h4 {color: #818286; font-family: 'Roboto';}\n",
    "span {font-family:'Roboto'; color:black; text-shadow: 5px 5px 5px #aaa;}  \n",
    "div.output_area pre{font-family:'Roboto'; font-size:110%; color:lightblue;}      \n",
    "</style>"
   ]
  },
  {
   "cell_type": "markdown",
   "metadata": {
    "_uuid": "4b498dcca80b4a34895ac7a02aca6ee6d9601fd2"
   },
   "source": [
    "Useful `LINKS`:\n",
    "\n",
    "&#128187; 1. [MovieLens 20M Dataset Research Paper](http://files.grouplens.org/papers/harper-tiis2015.pdf)\n",
    "\n",
    "&#128187; 2. [Pandas Documentation](http://pandas.pydata.org/pandas-docs/stable/)\n",
    "\n",
    "&#128187; 3. [Pandas Official Site](https://pandas.pydata.org)"
   ]
  },
  {
   "cell_type": "markdown",
   "metadata": {
    "_uuid": "474787d0e33334f67aa960eb99ccd0ed56e758e4"
   },
   "source": [
    "# &#128203; Introduction of MoveLens:\n",
    "This is a report on the movieLens dataset available here. MovieLens itself is a research site run by GroupLens Research group at the University of Minnesota. The first automated recommender system was developed there in 1993."
   ]
  },
  {
   "cell_type": "markdown",
   "metadata": {
    "_uuid": "e3ef57d2e603bf7b33f648410f6f439ea14ac6e4"
   },
   "source": [
    "# &#128221; Dataset Description:\n",
    "The dataset is available in several snapshots. The ones that were used in this analysis were Latest Datasets - both full and small (for web scraping). They were last updated in October 2016.\n",
    "\n"
   ]
  },
  {
   "cell_type": "markdown",
   "metadata": {
    "_uuid": "1c2c99dcc273da454f4f463802e7db7a8681cafc"
   },
   "source": [
    "# &#128214; Definitions of Pandas:\n",
    "Pandas is a Python library for data analysis. It offers a number of data exploration, cleaning and transformation operations that are critical in working with data in Python.\n",
    "\n",
    "Pandas build upon numpy and scipy providing easy-to-use data structures and data manipulation functions with integrated indexing.\n",
    "\n",
    "* The main data structures pandas provides are Series and DataFrames."
   ]
  },
  {
   "cell_type": "markdown",
   "metadata": {
    "_uuid": "5631fdf5f1c1bb93461c0fe69d0e1ff1a219c58c"
   },
   "source": [
    "![Imgur](https://i.imgur.com/L9GESTT.jpg)"
   ]
  },
  {
   "cell_type": "markdown",
   "metadata": {
    "_uuid": "231c6401de58128e4d0c403d9e358bd5d79cd287"
   },
   "source": [
    " # &#128204; Getting Started\n",
    " To get started, we will need to; Please note that you will need to download the dataset. \n",
    " \n",
    " Here are the links to the data source and location:\n",
    " \n",
    "* ** Data Source:** Kaggle Data Science Home (filename: movelens-20m-dataset.zip)\n",
    "* **Location:** https://www.kaggle.com/grouplens/movielens-20m-dataset"
   ]
  },
  {
   "cell_type": "markdown",
   "metadata": {
    "_uuid": "7c823ea8eae18e83749a05f2e53ab55fca9ff2b5"
   },
   "source": [
    "# &#128229; Import Libraries"
   ]
  },
  {
   "cell_type": "code",
   "execution_count": null,
   "metadata": {
    "_uuid": "ff142b3cc4fe97e50118facc75905dd26bbc8ef0",
    "collapsed": true
   },
   "outputs": [],
   "source": [
    "import pandas as pd"
   ]
  },
  {
   "cell_type": "markdown",
   "metadata": {
    "_uuid": "0e07a2b24a494269a1b294be083a32382d0ede82"
   },
   "source": [
    "# &#128197; Read the Dataset\n",
    "In this notebook, we will be using three CSV files:\n",
    "\n",
    "* **ratings.csv :** userId,movieId,rating, timestamp\n",
    "\n",
    "* **tags.csv : **userId,movieId, tag, timestamp\n",
    "\n",
    "* **movies.csv : **movieId, title, genres "
   ]
  },
  {
   "cell_type": "code",
   "execution_count": null,
   "metadata": {
    "_uuid": "29eaf040567f08d65f0b98802efd223bf7012c89",
    "collapsed": true
   },
   "outputs": [],
   "source": [
    "movies = pd.read_csv('../input/movielens-20m-dataset/movie.csv', sep=',')\n",
    "print(type(movies))\n",
    "movies.head(20)"
   ]
  },
  {
   "cell_type": "code",
   "execution_count": null,
   "metadata": {
    "_uuid": "854dead038aae0d3a85516aaae0f95d740f2b4e6",
    "collapsed": true
   },
   "outputs": [],
   "source": [
    "tags = pd.read_csv('../input/movielens-20m-dataset/tag.csv', sep=',')\n",
    "tags.head()"
   ]
  },
  {
   "cell_type": "code",
   "execution_count": null,
   "metadata": {
    "_uuid": "c8a350c708306d2cd6344256ca2f4e2084e9b2c1",
    "collapsed": true
   },
   "outputs": [],
   "source": [
    "ratings = pd.read_csv('../input/movielens-20m-dataset/rating.csv', sep=',', parse_dates=['timestamp'])\n",
    "ratings.head()"
   ]
  },
  {
   "cell_type": "markdown",
   "metadata": {
    "_uuid": "369b5c1daa59f93b4b87896522a27b547f34320c"
   },
   "source": [
    "* For current analysis, we will remove timestamp"
   ]
  },
  {
   "cell_type": "code",
   "execution_count": null,
   "metadata": {
    "_uuid": "a87dea2269f93ccdabd2cc5367f9307656ccb2ab",
    "collapsed": true
   },
   "outputs": [],
   "source": [
    "del ratings['timestamp']\n",
    "del tags['timestamp']"
   ]
  },
  {
   "cell_type": "markdown",
   "metadata": {
    "_uuid": "52d0ad5205060d3c9b06b1a68ffdb4f5423eae02"
   },
   "source": [
    "# &#128230; Data Structures:"
   ]
  },
  {
   "cell_type": "markdown",
   "metadata": {
    "_uuid": "b4f56ba945982697b2c278609016b08fbd9800ce"
   },
   "source": [
    "## &#128678; Series"
   ]
  },
  {
   "cell_type": "code",
   "execution_count": null,
   "metadata": {
    "_uuid": "b19ff6afdc336204d53b9694997df89f85bd02da",
    "collapsed": true
   },
   "outputs": [],
   "source": [
    "row_0 = tags.iloc[0]\n",
    "type(row_0)"
   ]
  },
  {
   "cell_type": "code",
   "execution_count": null,
   "metadata": {
    "_uuid": "d331cb8bc7724155f80fc28d87cfadc7396da937",
    "collapsed": true
   },
   "outputs": [],
   "source": [
    "print(row_0)"
   ]
  },
  {
   "cell_type": "code",
   "execution_count": null,
   "metadata": {
    "_uuid": "187419bb13bc6761071c6ecd4ef7c5e0f2472107",
    "collapsed": true
   },
   "outputs": [],
   "source": [
    "row_0.index"
   ]
  },
  {
   "cell_type": "code",
   "execution_count": null,
   "metadata": {
    "_uuid": "00178c054126363df74796727b21538ca27dcc70",
    "collapsed": true
   },
   "outputs": [],
   "source": [
    "row_0['userId']"
   ]
  },
  {
   "cell_type": "code",
   "execution_count": null,
   "metadata": {
    "_uuid": "f65b42bf1b46db52defa3cacbadc51b16561adc6",
    "collapsed": true
   },
   "outputs": [],
   "source": [
    "'rating' in row_0"
   ]
  },
  {
   "cell_type": "code",
   "execution_count": null,
   "metadata": {
    "_uuid": "fe56781965eab29f0ffab77d36cf9de1b82ef24c",
    "collapsed": true
   },
   "outputs": [],
   "source": [
    "row_0.name"
   ]
  },
  {
   "cell_type": "code",
   "execution_count": null,
   "metadata": {
    "_uuid": "262ce50b7462e6f00493f610c8b0821b417818db",
    "collapsed": true
   },
   "outputs": [],
   "source": [
    "row_0 = row_0.rename('firstRow')\n",
    "row_0.name"
   ]
  },
  {
   "cell_type": "markdown",
   "metadata": {
    "_uuid": "111bd3704412522834bebd75f597bf15dd48e5a1",
    "collapsed": true
   },
   "source": [
    "# &#9641; DataFrames"
   ]
  },
  {
   "cell_type": "code",
   "execution_count": null,
   "metadata": {
    "_uuid": "497177a152ddacbbb7998e8bba1d5b4688d6cee1",
    "collapsed": true
   },
   "outputs": [],
   "source": [
    "tags.head()"
   ]
  },
  {
   "cell_type": "code",
   "execution_count": null,
   "metadata": {
    "_uuid": "2c783b5258b4c1559267aca6968c988ab6a92436",
    "collapsed": true
   },
   "outputs": [],
   "source": [
    "tags.index"
   ]
  },
  {
   "cell_type": "code",
   "execution_count": null,
   "metadata": {
    "_uuid": "e6b06040bac1bf16f6853a9c94782888d0f87c40",
    "collapsed": true
   },
   "outputs": [],
   "source": [
    "tags.columns"
   ]
  },
  {
   "cell_type": "code",
   "execution_count": null,
   "metadata": {
    "_uuid": "f32fc38c93a856e2cc6fa8124b8cd5f975eaed63",
    "collapsed": true
   },
   "outputs": [],
   "source": [
    "tags.iloc[ [0,11,500] ]"
   ]
  },
  {
   "cell_type": "markdown",
   "metadata": {
    "_uuid": "e7a48ff51a32be7c12e3d84e4aac018525755fd7"
   },
   "source": [
    "# &#128200; &#128201; Descriptive Statistics \n",
    "Let's look how the ratings are distributed!"
   ]
  },
  {
   "cell_type": "code",
   "execution_count": null,
   "metadata": {
    "_uuid": "941d1dbbcedc051e5a7e43853461d0c5f2a0825f",
    "collapsed": true
   },
   "outputs": [],
   "source": [
    "ratings['rating'].describe()"
   ]
  },
  {
   "cell_type": "code",
   "execution_count": null,
   "metadata": {
    "_uuid": "767f02e116cce0b15c5a8f2d13a24f4984fb0ce1",
    "collapsed": true
   },
   "outputs": [],
   "source": [
    "ratings.describe()"
   ]
  },
  {
   "cell_type": "code",
   "execution_count": null,
   "metadata": {
    "_uuid": "d648b7d71171edecc86a1d8f5f16acc8d46b6af1",
    "collapsed": true
   },
   "outputs": [],
   "source": [
    "ratings['rating'].mean()"
   ]
  },
  {
   "cell_type": "code",
   "execution_count": null,
   "metadata": {
    "_uuid": "dae55930201cee1a780b2bdfe0a64bb882b1518f",
    "collapsed": true
   },
   "outputs": [],
   "source": [
    "ratings.mean()"
   ]
  },
  {
   "cell_type": "code",
   "execution_count": null,
   "metadata": {
    "_uuid": "5b0bc3ba60c72f557115e02e8df3550b60794ffb",
    "collapsed": true
   },
   "outputs": [],
   "source": [
    "ratings['rating'].min()"
   ]
  },
  {
   "cell_type": "code",
   "execution_count": null,
   "metadata": {
    "_uuid": "1a5e488188ad2f93b9bb17d1503dbe01e9c32e02",
    "collapsed": true
   },
   "outputs": [],
   "source": [
    "ratings['rating'].max()"
   ]
  },
  {
   "cell_type": "code",
   "execution_count": null,
   "metadata": {
    "_uuid": "72b54947a4df3f58b2578dbd3e0d45f089d45c65",
    "collapsed": true
   },
   "outputs": [],
   "source": [
    "ratings['rating'].std()"
   ]
  },
  {
   "cell_type": "code",
   "execution_count": null,
   "metadata": {
    "_uuid": "7627c954e4fcc900e3aa64bc9fe6bda0a1c98269",
    "collapsed": true
   },
   "outputs": [],
   "source": [
    "ratings['rating'].mode()"
   ]
  },
  {
   "cell_type": "code",
   "execution_count": null,
   "metadata": {
    "_uuid": "d747e1958b94a0ba90052f522830838e64ae56e5",
    "collapsed": true
   },
   "outputs": [],
   "source": [
    "ratings.corr()"
   ]
  },
  {
   "cell_type": "code",
   "execution_count": null,
   "metadata": {
    "_uuid": "929874f2edd6286ddeedf75285bda235798acbec",
    "collapsed": true
   },
   "outputs": [],
   "source": [
    "filter1 = ratings['rating'] > 10\n",
    "print(filter1)\n",
    "filter1.any()"
   ]
  },
  {
   "cell_type": "code",
   "execution_count": null,
   "metadata": {
    "_uuid": "b3821b92e86e3f30a984b1553d652bed9fc7a356",
    "collapsed": true
   },
   "outputs": [],
   "source": [
    "filter2 = ratings['rating'] > 0\n",
    "filter2.all()"
   ]
  },
  {
   "cell_type": "markdown",
   "metadata": {
    "_uuid": "62a0e6b5983815ec0ce678d59b876fd3e95573ad"
   },
   "source": [
    "# &#128295; Data Cleaning: Handling Missing Data"
   ]
  },
  {
   "cell_type": "code",
   "execution_count": null,
   "metadata": {
    "_uuid": "119a01ff5d2996974946ce6e764b5171f11e3d11",
    "collapsed": true
   },
   "outputs": [],
   "source": [
    "movies.shape"
   ]
  },
  {
   "cell_type": "code",
   "execution_count": null,
   "metadata": {
    "_uuid": "357182433882842b2806055dbaf067dcc2859b7f",
    "collapsed": true
   },
   "outputs": [],
   "source": [
    "movies.isnull().any().any()"
   ]
  },
  {
   "cell_type": "markdown",
   "metadata": {
    "_uuid": "35f02ea21b3093c6be4da20222ad8d68cce60896"
   },
   "source": [
    "* Thats nice ! No NULL values !"
   ]
  },
  {
   "cell_type": "code",
   "execution_count": null,
   "metadata": {
    "_uuid": "9dda8bcfd748abaa5f6d2d3f1b97a8572e75180a",
    "collapsed": true
   },
   "outputs": [],
   "source": [
    "ratings.shape"
   ]
  },
  {
   "cell_type": "code",
   "execution_count": null,
   "metadata": {
    "_uuid": "ebf57edc0344fec3376a34abf73f97778eff8da8",
    "collapsed": true
   },
   "outputs": [],
   "source": [
    "ratings.isnull().any().any()"
   ]
  },
  {
   "cell_type": "markdown",
   "metadata": {
    "_uuid": "400e718fc8feb5801605e69ecd9a25ee59523f03"
   },
   "source": [
    "* Thats nice ! No NULL values !"
   ]
  },
  {
   "cell_type": "code",
   "execution_count": null,
   "metadata": {
    "_uuid": "9e845785cf27b505e18fb818b421fff004ca9241",
    "collapsed": true
   },
   "outputs": [],
   "source": [
    "tags.shape"
   ]
  },
  {
   "cell_type": "code",
   "execution_count": null,
   "metadata": {
    "_uuid": "5ff8c6dcea10961a141deed3b65de3fa1f9ebf31",
    "collapsed": true
   },
   "outputs": [],
   "source": [
    "tags.isnull().any().any()"
   ]
  },
  {
   "cell_type": "markdown",
   "metadata": {
    "_uuid": "38ac5e6f658c53a112581253c202482bed1da4d9"
   },
   "source": [
    "* We have some tags which are NULL."
   ]
  },
  {
   "cell_type": "code",
   "execution_count": null,
   "metadata": {
    "_uuid": "cb10102452503467a9f173fc09f6ff3c3be19b32",
    "collapsed": true
   },
   "outputs": [],
   "source": [
    "tags=tags.dropna()"
   ]
  },
  {
   "cell_type": "code",
   "execution_count": null,
   "metadata": {
    "_uuid": "2b6bf30f12350e0b112f826b73841164252f8bde",
    "collapsed": true
   },
   "outputs": [],
   "source": [
    "tags.isnull().any().any()"
   ]
  },
  {
   "cell_type": "code",
   "execution_count": null,
   "metadata": {
    "_uuid": "0382ca5b0450269cfa35bd35612e6a65a8d692f0",
    "collapsed": true
   },
   "outputs": [],
   "source": [
    "tags.shape"
   ]
  },
  {
   "cell_type": "markdown",
   "metadata": {
    "_uuid": "82eb16bc77612f35116bdb7035fd35af041f3733"
   },
   "source": [
    "* Thats nice ! No NULL values ! Notice the number of lines have reduced."
   ]
  },
  {
   "cell_type": "markdown",
   "metadata": {
    "_uuid": "c8335bfddd945c1202bda79bc739763cf1f48193"
   },
   "source": [
    "# &#128202; Data Visualization"
   ]
  },
  {
   "cell_type": "code",
   "execution_count": null,
   "metadata": {
    "_uuid": "ae476ac1a24c8497262c76565d8d02c584dd0954",
    "collapsed": true
   },
   "outputs": [],
   "source": [
    "%matplotlib inline\n",
    "\n",
    "ratings.hist(column='rating', figsize=(10,5))"
   ]
  },
  {
   "cell_type": "code",
   "execution_count": null,
   "metadata": {
    "_uuid": "4a3d9e0469dc0220750c31275c1fa851d34bed96",
    "collapsed": true
   },
   "outputs": [],
   "source": [
    "ratings.boxplot(column='rating', figsize=(10,5))"
   ]
  },
  {
   "cell_type": "markdown",
   "metadata": {
    "_uuid": "7a7eb609b1ce5a2c297e5a0fca8f15efd9d2e28c"
   },
   "source": [
    "# &#128228; Slicing Out Columns"
   ]
  },
  {
   "cell_type": "code",
   "execution_count": null,
   "metadata": {
    "_uuid": "982575acd923124f6b0fd9baa64ff5781cb05bd0",
    "collapsed": true
   },
   "outputs": [],
   "source": [
    "tags['tag'].head()"
   ]
  },
  {
   "cell_type": "code",
   "execution_count": null,
   "metadata": {
    "_uuid": "31ffc8cb02fdb250df5bf31680172dc431349c26",
    "collapsed": true
   },
   "outputs": [],
   "source": [
    "movies[['title','genres']].head()"
   ]
  },
  {
   "cell_type": "code",
   "execution_count": null,
   "metadata": {
    "_uuid": "55b259e94f086464c518f8108101ca4ef4ba5775",
    "collapsed": true
   },
   "outputs": [],
   "source": [
    "ratings[-10:]"
   ]
  },
  {
   "cell_type": "code",
   "execution_count": null,
   "metadata": {
    "_uuid": "fc165d76578abdbc2b4a60997b004b9a7012ddc0",
    "collapsed": true
   },
   "outputs": [],
   "source": [
    "tag_counts = tags['tag'].value_counts()\n",
    "tag_counts[-10:]"
   ]
  },
  {
   "cell_type": "code",
   "execution_count": null,
   "metadata": {
    "_uuid": "7ca01ca0b9838845f8d275f2fe968cf3d7bcaa5d",
    "collapsed": true
   },
   "outputs": [],
   "source": [
    "tag_counts[:10].plot(kind='bar', figsize=(10,5))"
   ]
  },
  {
   "cell_type": "markdown",
   "metadata": {
    "_uuid": "cd57839b0cf70403d1c41663c1e1f0e7144d7dd4"
   },
   "source": [
    "# &#127907; Filters for Selecting Rows"
   ]
  },
  {
   "cell_type": "code",
   "execution_count": null,
   "metadata": {
    "_uuid": "2e5b71ac268f7dca9221143b14377e43fb733a41",
    "collapsed": true
   },
   "outputs": [],
   "source": [
    "is_highly_rated = ratings['rating'] >= 5.0\n",
    "ratings[is_highly_rated][30:50]"
   ]
  },
  {
   "cell_type": "code",
   "execution_count": null,
   "metadata": {
    "_uuid": "3e2b90a2c5c20102c1b42c280ad9ac488c58eb05",
    "collapsed": true
   },
   "outputs": [],
   "source": [
    "is_action= movies['genres'].str.contains('Action')\n",
    "movies[is_action][5:15]"
   ]
  },
  {
   "cell_type": "code",
   "execution_count": null,
   "metadata": {
    "_uuid": "e01ec0ee412cc285dd2e25367accae8c6deeb03e",
    "collapsed": true
   },
   "outputs": [],
   "source": [
    "movies[is_action].head(15)"
   ]
  },
  {
   "cell_type": "markdown",
   "metadata": {
    "_uuid": "cd8a69ca1e0c5e7c780282cbd177db51a8f35959"
   },
   "source": [
    "# &#128101; Group By and Aggregate"
   ]
  },
  {
   "cell_type": "code",
   "execution_count": null,
   "metadata": {
    "_uuid": "51ecebe1ff3f328c8f577c1ceb537ef7eaef800f",
    "collapsed": true
   },
   "outputs": [],
   "source": [
    "ratings_count = ratings[['movieId','rating']].groupby('rating').count()\n",
    "ratings_count"
   ]
  },
  {
   "cell_type": "code",
   "execution_count": null,
   "metadata": {
    "_uuid": "cb473b144685254e9a7cda0b7faf0be3525c57d4",
    "collapsed": true
   },
   "outputs": [],
   "source": [
    "average_rating = ratings[['movieId','rating']].groupby('movieId').mean()\n",
    "average_rating.head()"
   ]
  },
  {
   "cell_type": "code",
   "execution_count": null,
   "metadata": {
    "_uuid": "5bfdd65b34645b5f4dba825572b5ebae02aa8e67",
    "collapsed": true
   },
   "outputs": [],
   "source": [
    "movie_count = ratings[['movieId','rating']].groupby('movieId').count()\n",
    "movie_count.head()"
   ]
  },
  {
   "cell_type": "code",
   "execution_count": null,
   "metadata": {
    "_uuid": "4ba1d3ead19228477dfaaf79a18f894709688b61",
    "collapsed": true
   },
   "outputs": [],
   "source": [
    "movie_count = ratings[['movieId','rating']].groupby('movieId').count()\n",
    "movie_count.tail()"
   ]
  },
  {
   "cell_type": "markdown",
   "metadata": {
    "_uuid": "1c3a4da739fd350643997a630daf3f6b6765f760"
   },
   "source": [
    "# &#128304; Merge Dataframes"
   ]
  },
  {
   "cell_type": "code",
   "execution_count": null,
   "metadata": {
    "_uuid": "aecd3bd046f6c4db0b006d8ac9e0160791d30cb2",
    "collapsed": true
   },
   "outputs": [],
   "source": [
    "tags.head()"
   ]
  },
  {
   "cell_type": "code",
   "execution_count": null,
   "metadata": {
    "_uuid": "38df5d5d52f5de8348c69fa40b73659e714bfa8a",
    "collapsed": true
   },
   "outputs": [],
   "source": [
    "movies.head()"
   ]
  },
  {
   "cell_type": "code",
   "execution_count": null,
   "metadata": {
    "_uuid": "32b694c2cb1c94d0f61097a002d201c28778216d",
    "collapsed": true
   },
   "outputs": [],
   "source": [
    "t = movies.merge(tags, on='movieId', how='inner')\n",
    "t.head()"
   ]
  },
  {
   "cell_type": "markdown",
   "metadata": {
    "_uuid": "ceda4e27a82818e0b0e826fda874cc3b75ffab16"
   },
   "source": [
    "* More examples: http://pandas.pydata.org/pandas-docs/stable/merging.html"
   ]
  },
  {
   "cell_type": "markdown",
   "metadata": {
    "_uuid": "971e0536b5cae0de0cb7de5da2bb94a716e6dbce"
   },
   "source": [
    "### &#128218; Combine aggreagation, merging, and filters to get useful analytics"
   ]
  },
  {
   "cell_type": "code",
   "execution_count": null,
   "metadata": {
    "_uuid": "a6518c2bcf19dd8fa0464986db8fc5e1d36034d3",
    "collapsed": true
   },
   "outputs": [],
   "source": [
    "avg_ratings= ratings.groupby('movieId', as_index=False).mean()\n",
    "del avg_ratings['userId']\n",
    "avg_ratings.head()"
   ]
  },
  {
   "cell_type": "code",
   "execution_count": null,
   "metadata": {
    "_uuid": "c013283d40b48607030abc5e0c442f79cb231230",
    "collapsed": true
   },
   "outputs": [],
   "source": [
    "box_office = movies.merge(avg_ratings, on='movieId', how='inner')\n",
    "box_office.tail()"
   ]
  },
  {
   "cell_type": "code",
   "execution_count": null,
   "metadata": {
    "_uuid": "e4cb7529a28dea43d3ed7986b2cf4bbbff3190c0",
    "collapsed": true
   },
   "outputs": [],
   "source": [
    "is_highly_rated = box_office['rating'] >= 4.0\n",
    "box_office[is_highly_rated][-5:]"
   ]
  },
  {
   "cell_type": "code",
   "execution_count": null,
   "metadata": {
    "_uuid": "a3bbd3012a9c34d5ff918c12b9a54dae4f6536fe",
    "collapsed": true
   },
   "outputs": [],
   "source": [
    "is_Adventure = box_office['genres'].str.contains('Adventure')\n",
    "box_office[is_Adventure][:5]"
   ]
  },
  {
   "cell_type": "code",
   "execution_count": null,
   "metadata": {
    "_uuid": "60e63e962e90c6d6ce7cd58c190e4154ca308b46",
    "collapsed": true
   },
   "outputs": [],
   "source": [
    "box_office[is_Adventure & is_highly_rated][-5:]"
   ]
  },
  {
   "cell_type": "markdown",
   "metadata": {
    "_uuid": "de1bb73c329b40b608403708cba2a3105424e8f3"
   },
   "source": [
    "# &#128221; Vectorized String Operations"
   ]
  },
  {
   "cell_type": "code",
   "execution_count": null,
   "metadata": {
    "_uuid": "720585791ef885dde754c848cc8428964b9dec7c",
    "collapsed": true
   },
   "outputs": [],
   "source": [
    "movies.head()"
   ]
  },
  {
   "cell_type": "markdown",
   "metadata": {
    "_uuid": "0a5c93e5fe4485de26a7e446ba1ac376e31ed71c"
   },
   "source": [
    "## &#128300; Split 'genres' into multiple columns "
   ]
  },
  {
   "cell_type": "code",
   "execution_count": null,
   "metadata": {
    "_uuid": "2c90cdb192294c395b947762368c6687a5d55051",
    "collapsed": true
   },
   "outputs": [],
   "source": [
    "movie_genres = movies['genres'].str.split('|', expand=True)"
   ]
  },
  {
   "cell_type": "code",
   "execution_count": null,
   "metadata": {
    "_uuid": "ef02b91013d027ee621f3f89aa6017b0bbc47187",
    "collapsed": true
   },
   "outputs": [],
   "source": [
    "movie_genres[:10]"
   ]
  },
  {
   "cell_type": "markdown",
   "metadata": {
    "_uuid": "ace41db2a2f82fa682b06661e41874e04ab850fa"
   },
   "source": [
    "## &#128681; Add a new column for comedy genre flag "
   ]
  },
  {
   "cell_type": "code",
   "execution_count": null,
   "metadata": {
    "_uuid": "a063636086b9cfb44c5c1dd0d0cced9967249774",
    "collapsed": true
   },
   "outputs": [],
   "source": [
    "movie_genres['isComedy'] = movies['genres'].str.contains('Comedy')"
   ]
  },
  {
   "cell_type": "code",
   "execution_count": null,
   "metadata": {
    "_uuid": "4cb2fd1561085b231bebaba3125a7306f6ccd073",
    "collapsed": true
   },
   "outputs": [],
   "source": [
    "movie_genres[:10]"
   ]
  },
  {
   "cell_type": "markdown",
   "metadata": {
    "_uuid": "ef83fbbc6efe1ae68e1e04292e99f6aac90d1631"
   },
   "source": [
    "## &#128223; Extract year from title e.g. (2007) "
   ]
  },
  {
   "cell_type": "code",
   "execution_count": null,
   "metadata": {
    "_uuid": "2276a9dbe079dd5405f86a0e2a68034df86c65f3",
    "collapsed": true
   },
   "outputs": [],
   "source": [
    "movies['year'] = movies['title'].str.extract('.*\\((.*)\\).*', expand=True)"
   ]
  },
  {
   "cell_type": "code",
   "execution_count": null,
   "metadata": {
    "_uuid": "59c81f935e6f8600870f938e162934fd130ee504",
    "collapsed": true
   },
   "outputs": [],
   "source": [
    "movies.tail()"
   ]
  },
  {
   "cell_type": "markdown",
   "metadata": {
    "_uuid": "a2a222ea3b494c93c266e3cac5738d6f07abb4b2"
   },
   "source": [
    "More here: http://pandas.pydata.org/pandas-docs/stable/text.html#text-string-methods "
   ]
  },
  {
   "cell_type": "markdown",
   "metadata": {
    "_uuid": "840c1de3c6b408da0effd42975ccc016825f0c5c"
   },
   "source": [
    "# &#128336; Parsing Timestamps"
   ]
  },
  {
   "cell_type": "markdown",
   "metadata": {
    "_uuid": "ab7cf1bb49400733a07aa9ccfbebd935cf2643fb"
   },
   "source": [
    " * Timestamps are common in sensor data or other time series datasets. Let us revisit the tags.csv dataset and read the timestamps!"
   ]
  },
  {
   "cell_type": "code",
   "execution_count": null,
   "metadata": {
    "_uuid": "f56077ff918aacabef11cc40edd41e7155899e7c",
    "collapsed": true
   },
   "outputs": [],
   "source": [
    "tags = pd.read_csv('../input/movielenslatest/tags.csv', sep=',')"
   ]
  },
  {
   "cell_type": "code",
   "execution_count": null,
   "metadata": {
    "_uuid": "f60896131798e857281c773d470ad277e6cac1e7",
    "collapsed": true
   },
   "outputs": [],
   "source": [
    "tags.dtypes"
   ]
  },
  {
   "cell_type": "markdown",
   "metadata": {
    "_uuid": "b283c188bcb095c9dcaf378ffef5b39fcbb79cc3"
   },
   "source": [
    "Unix time / POSIX time / epoch time records time in seconds \n",
    "\n",
    "since midnight Coordinated Universal Time (UTC) of April 4, 2009"
   ]
  },
  {
   "cell_type": "code",
   "execution_count": null,
   "metadata": {
    "_uuid": "9d6541c02b97a420b89a917d316cd983cb1f58df",
    "collapsed": true
   },
   "outputs": [],
   "source": [
    "tags.head(5)"
   ]
  },
  {
   "cell_type": "code",
   "execution_count": null,
   "metadata": {
    "_uuid": "4021fbd660d5ed9ee36c59d5b475488f01d62a00",
    "collapsed": true
   },
   "outputs": [],
   "source": [
    "tags['parsed_time'] = pd.to_datetime(tags['timestamp'], unit='s')"
   ]
  },
  {
   "cell_type": "markdown",
   "metadata": {
    "_uuid": "fd7217471b67d80dbefa8a57dd223147e546acba"
   },
   "source": [
    "* Data Type datetime64[ns] maps to either"
   ]
  },
  {
   "cell_type": "code",
   "execution_count": null,
   "metadata": {
    "_uuid": "5f84730820524e6a7cadee22609c1f90a52ccbb9",
    "collapsed": true
   },
   "outputs": [],
   "source": [
    "tags['parsed_time'].dtype"
   ]
  },
  {
   "cell_type": "code",
   "execution_count": null,
   "metadata": {
    "_uuid": "b1578690d891236bb211b4db344cced34418c3b2",
    "collapsed": true
   },
   "outputs": [],
   "source": [
    "tags.head(2)"
   ]
  },
  {
   "cell_type": "markdown",
   "metadata": {
    "_uuid": "0ad8c3ae23710216145619653655728f6bdb1923"
   },
   "source": [
    "Selecting rows based on timestamps"
   ]
  },
  {
   "cell_type": "code",
   "execution_count": null,
   "metadata": {
    "_uuid": "8d54e28d3eba684ca89665e586564e7145300639",
    "collapsed": true
   },
   "outputs": [],
   "source": [
    "greater_than_t = tags['parsed_time'] > '2015-02-01'\n",
    "\n",
    "selected_rows = tags[greater_than_t]\n",
    "\n",
    "tags.shape, selected_rows.shape"
   ]
  },
  {
   "cell_type": "markdown",
   "metadata": {
    "_uuid": "3b955ed5b4b5b190b96dafa2039e5f4f47ced7df"
   },
   "source": [
    "Sorting the table using the timestamps"
   ]
  },
  {
   "cell_type": "code",
   "execution_count": null,
   "metadata": {
    "_uuid": "71f1f1e9fd978817efff3a0c2414d92e364b1348",
    "collapsed": true
   },
   "outputs": [],
   "source": [
    "tags.sort_values(by='parsed_time', ascending=True)[:10]"
   ]
  },
  {
   "cell_type": "markdown",
   "metadata": {
    "_uuid": "80548f57402dde3f907e8a29ba940d3fa30195a2"
   },
   "source": [
    "# &#128199; Average Movie Ratings over Time"
   ]
  },
  {
   "cell_type": "markdown",
   "metadata": {
    "_uuid": "5718ec973d46c6e2be6f275b6ee38ae93ef6d8af"
   },
   "source": [
    "## Movie ratings related to the year of launch?"
   ]
  },
  {
   "cell_type": "code",
   "execution_count": null,
   "metadata": {
    "_uuid": "d9d45434e66f05401f1bc5fe03144094031b921c",
    "collapsed": true
   },
   "outputs": [],
   "source": [
    "average_rating = ratings[['movieId','rating']].groupby('movieId', as_index=False).mean()\n",
    "average_rating.tail()"
   ]
  },
  {
   "cell_type": "code",
   "execution_count": null,
   "metadata": {
    "_uuid": "6fbed2360f5195451cc438277bc6fd2634c14c80",
    "collapsed": true
   },
   "outputs": [],
   "source": [
    "joined = movies.merge(average_rating, on='movieId', how='inner')\n",
    "joined.head()\n",
    "joined.corr()"
   ]
  },
  {
   "cell_type": "markdown",
   "metadata": {
    "_uuid": "54853af5bb7c022c18a81e76018316e8f09abc52"
   },
   "source": [
    "# &#128170; Motivation"
   ]
  },
  {
   "cell_type": "markdown",
   "metadata": {
    "_uuid": "38b2c4055ccedc50c0db25c0371e3920b1369bcb"
   },
   "source": [
    "# **“Learning how to do data science is like learning to ski. You have to do it.”**\n",
    "![Imgur](https://i.imgur.com/2sUbqv7.jpg)"
   ]
  }
 ],
 "metadata": {
  "kernelspec": {
   "display_name": "Python 3 (ipykernel)",
   "language": "python",
   "name": "python3"
  },
  "language_info": {
   "codemirror_mode": {
    "name": "ipython",
    "version": 3
   },
   "file_extension": ".py",
   "mimetype": "text/x-python",
   "name": "python",
   "nbconvert_exporter": "python",
   "pygments_lexer": "ipython3",
   "version": "3.10.9"
  }
 },
 "nbformat": 4,
 "nbformat_minor": 1
}
