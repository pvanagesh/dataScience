{
 "cells": [
  {
   "cell_type": "code",
   "execution_count": 1,
   "id": "46ef83e1",
   "metadata": {},
   "outputs": [
    {
     "name": "stdout",
     "output_type": "stream",
     "text": [
      "20\n"
     ]
    }
   ],
   "source": [
    "addition=lambda a: a + 10\n",
    "print(addition(10))"
   ]
  },
  {
   "cell_type": "code",
   "execution_count": 2,
   "id": "eb737cad",
   "metadata": {},
   "outputs": [
    {
     "name": "stdout",
     "output_type": "stream",
     "text": [
      "15\n"
     ]
    }
   ],
   "source": [
    "addition=lambda a,b: a+b\n",
    "print(addition(5,10))"
   ]
  },
  {
   "cell_type": "code",
   "execution_count": null,
   "id": "f5f52418",
   "metadata": {},
   "outputs": [],
   "source": []
  }
 ],
 "metadata": {
  "kernelspec": {
   "display_name": "Python 3 (ipykernel)",
   "language": "python",
   "name": "python3"
  },
  "language_info": {
   "codemirror_mode": {
    "name": "ipython",
    "version": 3
   },
   "file_extension": ".py",
   "mimetype": "text/x-python",
   "name": "python",
   "nbconvert_exporter": "python",
   "pygments_lexer": "ipython3",
   "version": "3.9.13"
  }
 },
 "nbformat": 4,
 "nbformat_minor": 5
}
