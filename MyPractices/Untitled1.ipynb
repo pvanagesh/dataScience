{
 "cells": [
  {
   "cell_type": "markdown",
   "id": "5d3ff1d5",
   "metadata": {},
   "source": [
    "# List Right Slice"
   ]
  },
  {
   "cell_type": "code",
   "execution_count": 1,
   "id": "fc10eefe",
   "metadata": {},
   "outputs": [
    {
     "data": {
      "text/plain": [
       "[1, 2, 3, 4, 5, 6, 7, 8]"
      ]
     },
     "execution_count": 1,
     "metadata": {},
     "output_type": "execute_result"
    }
   ],
   "source": [
    "mylst=[1,2,3,4,5,6,7,8]\n",
    "mylst"
   ]
  },
  {
   "cell_type": "code",
   "execution_count": 2,
   "id": "12436c86",
   "metadata": {},
   "outputs": [
    {
     "data": {
      "text/plain": [
       "[2, 3, 4, 5, 6, 7, 8]"
      ]
     },
     "execution_count": 2,
     "metadata": {},
     "output_type": "execute_result"
    }
   ],
   "source": [
    "mylst[1:]"
   ]
  },
  {
   "cell_type": "code",
   "execution_count": 3,
   "id": "8461b95a",
   "metadata": {},
   "outputs": [
    {
     "data": {
      "text/plain": [
       "[3, 4]"
      ]
     },
     "execution_count": 3,
     "metadata": {},
     "output_type": "execute_result"
    }
   ],
   "source": [
    "mylst[2:4]"
   ]
  },
  {
   "cell_type": "code",
   "execution_count": 4,
   "id": "a24e916b",
   "metadata": {},
   "outputs": [
    {
     "data": {
      "text/plain": [
       "3"
      ]
     },
     "execution_count": 4,
     "metadata": {},
     "output_type": "execute_result"
    }
   ],
   "source": [
    "mylst.index(4)"
   ]
  },
  {
   "cell_type": "code",
   "execution_count": 5,
   "id": "53c72f01",
   "metadata": {},
   "outputs": [
    {
     "data": {
      "text/plain": [
       "[1, 2, 3, 4, 5, 6, 7, 8, 9]"
      ]
     },
     "execution_count": 5,
     "metadata": {},
     "output_type": "execute_result"
    }
   ],
   "source": [
    "mylst.append(9)\n",
    "mylst"
   ]
  },
  {
   "cell_type": "code",
   "execution_count": 6,
   "id": "1856d3be",
   "metadata": {},
   "outputs": [
    {
     "data": {
      "text/plain": [
       "[1, 2, 3, 4, 6, 7, 8, 9]"
      ]
     },
     "execution_count": 6,
     "metadata": {},
     "output_type": "execute_result"
    }
   ],
   "source": [
    "mylst.remove(5)\n",
    "mylst"
   ]
  },
  {
   "cell_type": "code",
   "execution_count": 9,
   "id": "a58c2698",
   "metadata": {},
   "outputs": [
    {
     "data": {
      "text/plain": [
       "[1, 2, 3, 4, 5, 6, 4, 4, 7, 8, 9]"
      ]
     },
     "execution_count": 9,
     "metadata": {},
     "output_type": "execute_result"
    }
   ],
   "source": [
    "mylst.insert(4,5)\n",
    "mylst"
   ]
  },
  {
   "cell_type": "code",
   "execution_count": 10,
   "id": "4aea52cb",
   "metadata": {},
   "outputs": [
    {
     "ename": "NameError",
     "evalue": "name 'mylst' is not defined",
     "output_type": "error",
     "traceback": [
      "\u001b[1;31m---------------------------------------------------------------------------\u001b[0m",
      "\u001b[1;31mNameError\u001b[0m                                 Traceback (most recent call last)",
      "\u001b[1;32m~\\AppData\\Local\\Temp\\ipykernel_14512\\570426594.py\u001b[0m in \u001b[0;36m<module>\u001b[1;34m\u001b[0m\n\u001b[0;32m      1\u001b[0m \u001b[1;32mdel\u001b[0m \u001b[0mmylst\u001b[0m\u001b[1;33m\u001b[0m\u001b[1;33m\u001b[0m\u001b[0m\n\u001b[1;32m----> 2\u001b[1;33m \u001b[0mmylst\u001b[0m\u001b[1;33m\u001b[0m\u001b[1;33m\u001b[0m\u001b[0m\n\u001b[0m",
      "\u001b[1;31mNameError\u001b[0m: name 'mylst' is not defined"
     ]
    }
   ],
   "source": [
    "del mylst\n",
    "mylst"
   ]
  },
  {
   "cell_type": "code",
   "execution_count": 11,
   "id": "7ab329fd",
   "metadata": {},
   "outputs": [
    {
     "data": {
      "text/plain": [
       "[1, 2, 3, 4, 5, 6, 7, 8]"
      ]
     },
     "execution_count": 11,
     "metadata": {},
     "output_type": "execute_result"
    }
   ],
   "source": [
    "mylst=[1, 2, 3, 4, 5, 6, 7, 8]\n",
    "mylst"
   ]
  },
  {
   "cell_type": "code",
   "execution_count": 12,
   "id": "18b0809b",
   "metadata": {},
   "outputs": [
    {
     "data": {
      "text/plain": [
       "[]"
      ]
     },
     "execution_count": 12,
     "metadata": {},
     "output_type": "execute_result"
    }
   ],
   "source": [
    "mylst[:0]"
   ]
  },
  {
   "cell_type": "code",
   "execution_count": 13,
   "id": "30c198ce",
   "metadata": {},
   "outputs": [
    {
     "data": {
      "text/plain": [
       "[1]"
      ]
     },
     "execution_count": 13,
     "metadata": {},
     "output_type": "execute_result"
    }
   ],
   "source": [
    "mylst[:1]"
   ]
  },
  {
   "cell_type": "code",
   "execution_count": 14,
   "id": "8f5ece3e",
   "metadata": {},
   "outputs": [
    {
     "data": {
      "text/plain": [
       "[1, 2]"
      ]
     },
     "execution_count": 14,
     "metadata": {},
     "output_type": "execute_result"
    }
   ],
   "source": [
    "mylst[:2]"
   ]
  },
  {
   "cell_type": "code",
   "execution_count": 15,
   "id": "524c36c2",
   "metadata": {},
   "outputs": [
    {
     "data": {
      "text/plain": [
       "[8]"
      ]
     },
     "execution_count": 15,
     "metadata": {},
     "output_type": "execute_result"
    }
   ],
   "source": [
    "mylst[-1:]"
   ]
  },
  {
   "cell_type": "code",
   "execution_count": 16,
   "id": "b5992f6f",
   "metadata": {},
   "outputs": [
    {
     "data": {
      "text/plain": [
       "[7, 8]"
      ]
     },
     "execution_count": 16,
     "metadata": {},
     "output_type": "execute_result"
    }
   ],
   "source": [
    "mylst[-2:]"
   ]
  },
  {
   "cell_type": "code",
   "execution_count": 26,
   "id": "a26f9e01",
   "metadata": {},
   "outputs": [
    {
     "data": {
      "text/plain": [
       "[7, 8]"
      ]
     },
     "execution_count": 26,
     "metadata": {},
     "output_type": "execute_result"
    }
   ],
   "source": [
    "mylst[-2:8]"
   ]
  },
  {
   "cell_type": "code",
   "execution_count": 22,
   "id": "6dc398db",
   "metadata": {},
   "outputs": [
    {
     "data": {
      "text/plain": [
       "[5, 6, 7]"
      ]
     },
     "execution_count": 22,
     "metadata": {},
     "output_type": "execute_result"
    }
   ],
   "source": [
    "mylst[-4:7]"
   ]
  },
  {
   "cell_type": "code",
   "execution_count": null,
   "id": "467d776c",
   "metadata": {},
   "outputs": [],
   "source": []
  }
 ],
 "metadata": {
  "kernelspec": {
   "display_name": "Python 3 (ipykernel)",
   "language": "python",
   "name": "python3"
  },
  "language_info": {
   "codemirror_mode": {
    "name": "ipython",
    "version": 3
   },
   "file_extension": ".py",
   "mimetype": "text/x-python",
   "name": "python",
   "nbconvert_exporter": "python",
   "pygments_lexer": "ipython3",
   "version": "3.9.13"
  }
 },
 "nbformat": 4,
 "nbformat_minor": 5
}
